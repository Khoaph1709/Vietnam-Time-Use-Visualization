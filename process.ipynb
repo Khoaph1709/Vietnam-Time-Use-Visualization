{
 "cells": [
  {
   "cell_type": "code",
   "execution_count": 2,
   "id": "9dab5046",
   "metadata": {},
   "outputs": [],
   "source": [
    "import pandas as pd\n",
    "from time import gmtime, strftime\n",
    "from d3blocks import D3Blocks"
   ]
  },
  {
   "cell_type": "code",
   "execution_count": 3,
   "id": "fc323473",
   "metadata": {},
   "outputs": [],
   "source": [
    "def get_activity(code):\n",
    "    code = int(code)\n",
    "\n",
    "    if code in [101, 102, 199, 201, 202, 299, 301, 302, 399, 401, 402, 499, 502]:\n",
    "        return \"Work\"\n",
    "    elif code in [198, 298, 398, 498, 598, 698, 798, 898, 998, 1098, 1198, 1298, 1398, 1498, 1598]:\n",
    "        return \"Travel\"\n",
    "    elif code in [501]:\n",
    "        return \"Sell food\"\n",
    "    elif code in [504, 505, 506, 507, 508]:\n",
    "        return \"Provide services\"\n",
    "    elif code in [601]:\n",
    "        return \"Housework\"\n",
    "    elif code in [602]:\n",
    "        return \"Shopping\"\n",
    "    elif code in [701, 702]:\n",
    "        return \"Caring\"\n",
    "    elif code in [901, 902, 903]:\n",
    "        return \"Education\"\n",
    "    elif code in [1201, 1202, 1203, 1299]:\n",
    "        return \"Entertainment\"\n",
    "    elif code in [1301, 1302, 1303]:\n",
    "        return \"Sport\"\n",
    "    elif code in [1402]:\n",
    "        return \"TV/Youtube\"\n",
    "    elif code in [1404]:\n",
    "        return \"Surf Internet\"\n",
    "    elif code in [1501]:\n",
    "        return \"Sleeping\"\n",
    "    elif code in [1502]:\n",
    "        return \"Eating\"\n",
    "    elif code in [1503]:\n",
    "        return \"Personal hyginene\"\n",
    "    elif code in [1506]:\n",
    "        return \"Relaxing\" \n",
    "    else:\n",
    "        return \"Other\""
   ]
  },
  {
   "cell_type": "code",
   "execution_count": 8,
   "id": "af640f30",
   "metadata": {},
   "outputs": [],
   "source": [
    "def convert_time(minute):\n",
    "    return strftime(\"%d-%m-%Y %H:%M:%S\", gmtime(int(minute) * 60))"
   ]
  },
  {
   "cell_type": "code",
   "execution_count": 12,
   "id": "56693911",
   "metadata": {},
   "outputs": [],
   "source": [
    "import pandas as pd\n",
    "\n",
    "data = pd.read_csv(\"4_diary_main.csv\", encoding=\"latin-1\", usecols=[\"ID\", \"BEGIN\", \"Q401\"], converters={\"Q401\": get_activity, \"BEGIN\": convert_time})\n",
    "\n",
    "data.rename(columns={\"Q401\": \"state\", \"ID\": \"sample_id\", \"BEGIN\": \"datetime\"}, inplace=True)\n",
    "\n",
    "data.sort_values(by=[\"sample_id\", \"datetime\"], inplace=True)\n",
    "\n",
    "data = data.iloc[:int(len(data) / 4)]"
   ]
  },
  {
   "cell_type": "code",
   "execution_count": 13,
   "id": "6c6ac267",
   "metadata": {},
   "outputs": [
    {
     "name": "stderr",
     "output_type": "stream",
     "text": [
      "[d3blocks] >INFO> Cleaning edge_properties and config parameters..\n",
      "[d3blocks] >INFO> Cleaning edge_properties and config parameters..\n",
      "[d3blocks] >INFO> Initializing [Movingbubbles]\n",
      "[d3blocks] >INFO> filepath is set to [e:\\Github\\Vietnam-Time-Use-Visualization\\output.html]\n",
      "[d3blocks] >INFO> Set the center state at: [Travel]\n",
      "[d3blocks] >INFO> Convert to DataFrame.\n",
      "[d3blocks] >INFO> Node properties are set.\n",
      "[d3blocks] >INFO> Standardizing input dataframe using method: [samplewise].\n",
      "[d3blocks] >INFO> Set datetime format to [%d-%m-%Y %H:%M:%S]\n",
      "[d3blocks] >INFO> Standardize method: [samplewise]\n",
      "100%|██████████| 1364/1364 [00:01<00:00, 1234.94it/s]\n",
      "[d3blocks] >INFO> Set all nodes to size: 2\n",
      "[20-06-2025 13:39:48] [colourmap.colourmap] [WARNING] Colormap [Set1] can not create [1364] unique colors! Available unique colors: [9].\n",
      "[d3blocks] >INFO> Edge properties are set.\n",
      "[d3blocks] >INFO> File already exists and will be overwritten: [e:\\Github\\Vietnam-Time-Use-Visualization\\output.html]\n",
      "[d3blocks] >INFO> Open browser: e:\\Github\\Vietnam-Time-Use-Visualization\\output.html\n"
     ]
    }
   ],
   "source": [
    "d3 = D3Blocks()\n",
    "\n",
    "d3.movingbubbles(data, datetime=\"datetime\", sample_id=\"sample_id\", state=\"state\", filepath=\"./output.html\", note=\"Vietnamese people spend their time\", cmap=\"hsv\", center=\"Travel\", figsize=(780, 800), size=2)"
   ]
  }
 ],
 "metadata": {
  "kernelspec": {
   "display_name": "base",
   "language": "python",
   "name": "python3"
  },
  "language_info": {
   "codemirror_mode": {
    "name": "ipython",
    "version": 3
   },
   "file_extension": ".py",
   "mimetype": "text/x-python",
   "name": "python",
   "nbconvert_exporter": "python",
   "pygments_lexer": "ipython3",
   "version": "3.12.9"
  }
 },
 "nbformat": 4,
 "nbformat_minor": 5
}
